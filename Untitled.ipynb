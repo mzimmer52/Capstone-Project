{
 "cells": [
  {
   "cell_type": "markdown",
   "metadata": {},
   "source": [
    "# Summary\n",
    "\n",
    "## My capstone project comprised of using selenium to webscrape information from cross-fit athletes around the world, and then ultimately making a model that could predict the ranking of an athlete given their stats/results. \n",
    "\n",
    "\n",
    "# Selenium\n",
    "\n",
    "## The python library, Selenium, was used to help scrape all the relevant data from the tables. Beautiful Soup was not effective in this task, as the table was updated using javascript. In the end, I was able to receive 20,000 rows of data through the use of loops, and automated clicking features. \n",
    "\n",
    "\n",
    "# Data Manipulation\n",
    "\n",
    "\n",
    "<img src=\"Images/20.1\"> <img src=\"Images/20.3\">\n",
    "\n",
    "## Most of the data seemed to follow a similar trend. As seen from the images above, there is a clear pattern where the athletes ranked higher tend to have better scores for each event. Concering features like weight and height, it was interesting to see how the higher an athlete was ranked, the less their height/weight seemed to differ from the rest of their peers in the same class. \n",
    "\n",
    "<img src=\"Images/Weight\"> \n",
    "\n",
    "# Models\n",
    "\n",
    "## In the end, the machine learning model that provided the best accuracy for the dataset was a neural network. I was able to utilize Keras Tuner in order to find the parameters that were best fit to the dataset. \n",
    "\n",
    "<img src=\"Images/Keras_Tuner\"> \n",
    "\n",
    "## To make sure my local machine did not have to overwork/the session did not time out, the model was run in a Google Collab notebook using Google's GPU.\n",
    "\n",
    "## In the end, the neural network was able to obtain an accuracy of approximately 85%. The confusion matrix is shown below:\n",
    "\n",
    "<img src=\"Images/Matrix\"> \n",
    "\n",
    "## As we can see, the results are accurate, and are only off by one class on average for every mistaken prediction. \n",
    "\n",
    "## Using a decision tree, I was able to see which features in the dataset mattered the most for each prediction.\n",
    "\n",
    "<img src=\"Images/importances\"> \n",
    "\n",
    "## Not surprisingly, the actual results for each event were the most important regarding the prediction to which class an athlete belonged to. The weight, age, and height were not a important.\n"
   ]
  },
  {
   "cell_type": "code",
   "execution_count": null,
   "metadata": {},
   "outputs": [],
   "source": []
  }
 ],
 "metadata": {
  "kernelspec": {
   "display_name": "Python 3",
   "language": "python",
   "name": "python3"
  },
  "language_info": {
   "codemirror_mode": {
    "name": "ipython",
    "version": 3
   },
   "file_extension": ".py",
   "mimetype": "text/x-python",
   "name": "python",
   "nbconvert_exporter": "python",
   "pygments_lexer": "ipython3",
   "version": "3.8.3"
  }
 },
 "nbformat": 4,
 "nbformat_minor": 4
}
